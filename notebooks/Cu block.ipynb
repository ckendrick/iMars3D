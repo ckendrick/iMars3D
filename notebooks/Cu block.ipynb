{
 "cells": [
  {
   "cell_type": "markdown",
   "metadata": {},
   "source": [
    "## 0. Import useful tools"
   ]
  },
  {
   "cell_type": "code",
   "execution_count": 1,
   "metadata": {
    "collapsed": true
   },
   "outputs": [],
   "source": [
    "import os, imars3d, numpy as np"
   ]
  },
  {
   "cell_type": "code",
   "execution_count": 2,
   "metadata": {
    "collapsed": true
   },
   "outputs": [],
   "source": [
    "# %matplotlib notebook\n",
    "%matplotlib inline\n",
    "from matplotlib import pyplot as plt"
   ]
  },
  {
   "cell_type": "markdown",
   "metadata": {},
   "source": [
    "## 1. Define data paths"
   ]
  },
  {
   "cell_type": "code",
   "execution_count": 3,
   "metadata": {
    "collapsed": true
   },
   "outputs": [],
   "source": [
    "iptsdir = \"/HFIR/CG1DImaging/IPTS-16040\""
   ]
  },
  {
   "cell_type": "code",
   "execution_count": 28,
   "metadata": {
    "collapsed": true
   },
   "outputs": [],
   "source": [
    "# path to the directory with ct, ob, and df data files or subdirs\n",
    "datadir = os.path.join(iptsdir,\"raw/\")"
   ]
  },
  {
   "cell_type": "code",
   "execution_count": 5,
   "metadata": {
    "collapsed": true
   },
   "outputs": [],
   "source": [
    "# path to save output results (reconstructed slices)\n",
    "outdir = os.path.join(iptsdir, \"shared/processed_data/Cu_block_CCD_CT-test1\")"
   ]
  },
  {
   "cell_type": "code",
   "execution_count": 6,
   "metadata": {
    "collapsed": true
   },
   "outputs": [],
   "source": [
    "# temporary working directory. should be /SNSlocal2/<yourusername>/<experimentname>\n",
    "workdir = \"/SNSlocal2/lj7/16040-tmp\"\n",
    "!mkdir -p {workdir}"
   ]
  },
  {
   "cell_type": "markdown",
   "metadata": {},
   "source": [
    "## 2. Create CT data object"
   ]
  },
  {
   "cell_type": "code",
   "execution_count": 7,
   "metadata": {
    "collapsed": true
   },
   "outputs": [],
   "source": [
    "from imars3d.CT import CT"
   ]
  },
  {
   "cell_type": "code",
   "execution_count": 8,
   "metadata": {
    "collapsed": true
   },
   "outputs": [],
   "source": [
    "# ask for help\n",
    "CT?"
   ]
  },
  {
   "cell_type": "code",
   "execution_count": 9,
   "metadata": {
    "collapsed": false
   },
   "outputs": [
    {
     "name": "stdout",
     "output_type": "stream",
     "text": [
      "/HFIR/CG1DImaging/IPTS-16040/raw//ob/20160114_open_beam_0065_0001.fits\r\n",
      "/HFIR/CG1DImaging/IPTS-16040/raw//ob/20160114_open_beam_0065_0002.fits\r\n",
      "/HFIR/CG1DImaging/IPTS-16040/raw//ob/20160114_open_beam_0065_0003.fits\r\n",
      "/HFIR/CG1DImaging/IPTS-16040/raw//ob/20160114_open_beam_0065_0004.fits\r\n",
      "/HFIR/CG1DImaging/IPTS-16040/raw//ob/20160114_open_beam_0065_0005.fits\r\n",
      "/HFIR/CG1DImaging/IPTS-16040/raw//ob/20160114_open_beam_0065_0006.fits\r\n",
      "/HFIR/CG1DImaging/IPTS-16040/raw//ob/20160114_open_beam_0065_0007.fits\r\n",
      "/HFIR/CG1DImaging/IPTS-16040/raw//ob/20160114_open_beam_0065_0008.fits\r\n",
      "/HFIR/CG1DImaging/IPTS-16040/raw//ob/20160114_open_beam_0065_0009.fits\r\n",
      "/HFIR/CG1DImaging/IPTS-16040/raw//ob/20160114_open_beam_0065_0010.fits\r\n"
     ]
    }
   ],
   "source": [
    "# check OB data files\n",
    "!ls {datadir}/ob/*20160114_open*"
   ]
  },
  {
   "cell_type": "code",
   "execution_count": 10,
   "metadata": {
    "collapsed": false
   },
   "outputs": [
    {
     "name": "stdout",
     "output_type": "stream",
     "text": [
      "/HFIR/CG1DImaging/IPTS-16040/raw//df/20160115_DF_0060_0001.fits\r\n",
      "/HFIR/CG1DImaging/IPTS-16040/raw//df/20160115_DF_0060_0002.fits\r\n",
      "/HFIR/CG1DImaging/IPTS-16040/raw//df/20160115_DF_0060_0003.fits\r\n",
      "/HFIR/CG1DImaging/IPTS-16040/raw//df/20160115_DF_0060_0004.fits\r\n",
      "/HFIR/CG1DImaging/IPTS-16040/raw//df/20160115_DF_0060_0005.fits\r\n",
      "/HFIR/CG1DImaging/IPTS-16040/raw//df/20160115_DF_0060_0006.fits\r\n",
      "/HFIR/CG1DImaging/IPTS-16040/raw//df/20160115_DF_0060_0007.fits\r\n",
      "/HFIR/CG1DImaging/IPTS-16040/raw//df/20160115_DF_0060_0008.fits\r\n",
      "/HFIR/CG1DImaging/IPTS-16040/raw//df/20160115_DF_0060_0009.fits\r\n",
      "/HFIR/CG1DImaging/IPTS-16040/raw//df/20160115_DF_0060_0010.fits\r\n",
      "/HFIR/CG1DImaging/IPTS-16040/raw//df/20160115_DF_0060_0734.fits\r\n",
      "/HFIR/CG1DImaging/IPTS-16040/raw//df/20160115_DF_0060_0735.fits\r\n",
      "/HFIR/CG1DImaging/IPTS-16040/raw//df/20160115_DF_0060_0736.fits\r\n",
      "/HFIR/CG1DImaging/IPTS-16040/raw//df/20160115_DF_0060_0737.fits\r\n"
     ]
    }
   ],
   "source": [
    "# check DF data files\n",
    "!ls {datadir}/df/*20160115_DF*"
   ]
  },
  {
   "cell_type": "code",
   "execution_count": 26,
   "metadata": {
    "collapsed": false
   },
   "outputs": [
    {
     "name": "stdout",
     "output_type": "stream",
     "text": [
      "/HFIR/CG1DImaging/IPTS-16040/raw//ct_scans/20160113_Cublock_0065_000_000_0028.fits\r\n",
      "/HFIR/CG1DImaging/IPTS-16040/raw//ct_scans/20160113_Cublock_0065_000_250_0029.fits\r\n",
      "/HFIR/CG1DImaging/IPTS-16040/raw//ct_scans/20160113_Cublock_0065_000_500_0030.fits\r\n",
      "/HFIR/CG1DImaging/IPTS-16040/raw//ct_scans/20160113_Cublock_0065_000_750_0031.fits\r\n",
      "/HFIR/CG1DImaging/IPTS-16040/raw//ct_scans/20160113_Cublock_0065_001_000_0032.fits\r\n",
      "/HFIR/CG1DImaging/IPTS-16040/raw//ct_scans/20160113_Cublock_0065_001_250_0033.fits\r\n"
     ]
    }
   ],
   "source": [
    "# check CT scan data files\n",
    "!ls {datadir}/ct_scans/*Cublock*|sed -n \"1,6p\""
   ]
  },
  {
   "cell_type": "code",
   "execution_count": 12,
   "metadata": {
    "collapsed": false
   },
   "outputs": [
    {
     "name": "stdout",
     "output_type": "stream",
     "text": [
      " * found OB pattern: /HFIR/CG1DImaging/IPTS-16040/raw/ob/*20160114_open*\n",
      " * found DF pattern: /HFIR/CG1DImaging/IPTS-16040/raw/df/*20160115_DF*\n"
     ]
    },
    {
     "name": "stderr",
     "output_type": "stream",
     "text": [
      "Checking CT fn pattern 98%|################################## | [ETA:  0:00:00] "
     ]
    },
    {
     "name": "stdout",
     "output_type": "stream",
     "text": [
      " * found CT pattern: /HFIR/CG1DImaging/IPTS-16040/raw/ct_scans/*Cublock*_%07.3f_*.*\n"
     ]
    }
   ],
   "source": [
    "# create the ct object.\n",
    "ct = CT(datadir, CT_subdir=\"ct_scans\", CT_identifier=\"Cublock\", \n",
    "        workdir=workdir, outdir=outdir,\n",
    "        ob_identifier=\"20160114_open\", df_identifier=\"20160115_DF\"\n",
    "       )"
   ]
  },
  {
   "cell_type": "markdown",
   "metadata": {},
   "source": [
    "## 3. Find region of interests"
   ]
  },
  {
   "cell_type": "code",
   "execution_count": 15,
   "metadata": {
    "collapsed": true
   },
   "outputs": [],
   "source": [
    "ave = ct.estimateAverage(ct.ct_series)"
   ]
  },
  {
   "cell_type": "code",
   "execution_count": 18,
   "metadata": {
    "collapsed": false
   },
   "outputs": [
    {
     "data": {
      "text/plain": [
       "<matplotlib.colorbar.Colorbar at 0x7f5a6118ed10>"
      ]
     },
     "execution_count": 18,
     "metadata": {},
     "output_type": "execute_result"
    },
    {
     "data": {
      "image/png": "[encoded data removed]",
      "text/plain": [
       "<matplotlib.figure.Figure at 0x7f5a62b733d0>"
      ]
     },
     "metadata": {},
     "output_type": "display_data"
    }
   ],
   "source": [
    "plt.pcolormesh(ave, cmap=\"gray\")\n",
    "plt.colorbar()"
   ]
  },
  {
   "cell_type": "markdown",
   "metadata": {},
   "source": [
    "** We can define the ROI as xmin=600, ymin=100, xmax=1500, ymax=1500 **"
   ]
  },
  {
   "cell_type": "markdown",
   "metadata": {},
   "source": [
    "## 4. Run reconstruction"
   ]
  },
  {
   "cell_type": "code",
   "execution_count": 29,
   "metadata": {
    "collapsed": false,
    "scrolled": true
   },
   "outputs": [],
   "source": [
    "ct.recon(crop_window=(600, 100, 1500, 1500))"
   ]
  },
  {
   "cell_type": "markdown",
   "metadata": {},
   "source": [
    "** Check output **"
   ]
  },
  {
   "cell_type": "code",
   "execution_count": 25,
   "metadata": {
    "collapsed": false
   },
   "outputs": [
    {
     "name": "stdout",
     "output_type": "stream",
     "text": [
      "total 4443972\n",
      "-rw-r--r-- 1 lj7 users 3247472 Aug 24 19:52 recon_0.tiff\n",
      "-rw-r--r-- 1 lj7 users 3247472 Aug 24 19:52 recon_1000.tiff\n",
      "-rw-r--r-- 1 lj7 users 3247472 Aug 24 19:52 recon_1001.tiff\n",
      "-rw-r--r-- 1 lj7 users 3247472 Aug 24 19:52 recon_1002.tiff\n",
      "-rw-r--r-- 1 lj7 users 3247472 Aug 24 19:52 recon_1003.tiff\n",
      "1402\n"
     ]
    }
   ],
   "source": [
    "!ls {outdir} -l |sed -n \"1,6p\"\n",
    "!ls {outdir} -l |wc -l"
   ]
  },
  {
   "cell_type": "code",
   "execution_count": null,
   "metadata": {
    "collapsed": true
   },
   "outputs": [],
   "source": []
  }
 ],
 "metadata": {
  "kernelspec": {
   "display_name": "Python 2",
   "language": "python",
   "name": "python2"
  },
  "language_info": {
   "codemirror_mode": {
    "name": "ipython",
    "version": 2
   },
   "file_extension": ".py",
   "mimetype": "text/x-python",
   "name": "python",
   "nbconvert_exporter": "python",
   "pygments_lexer": "ipython2",
   "version": "2.7.11"
  }
 },
 "nbformat": 4,
 "nbformat_minor": 0
}
