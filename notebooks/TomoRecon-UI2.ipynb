{
 "cells": [
  {
   "cell_type": "markdown",
   "metadata": {},
   "source": [
    "# Quick Interface Instructions:\n",
    "* Make a copy by clicking \"File -> Make a copy\"\n",
    "* Give the new notebook a good name\n",
    "* Before starting, make sure the circle indicating the kernel status on the top-right corner is open (meaning the jupyter kernel is ready)\n",
    "* Run the cells below sequentially\n",
    "* __Shift-Enter__ to run a cell\n",
    "* When a cell's number is '\\*', the kernel is busy calculating for you. Please wait.\n",
    "* Click a cell to edit its contents"
   ]
  },
  {
   "cell_type": "markdown",
   "metadata": {},
   "source": [
    "# Import useful tools\n",
    "__Be patient, this will take a little while.__"
   ]
  },
  {
   "cell_type": "code",
   "execution_count": 1,
   "metadata": {
    "collapsed": true
   },
   "outputs": [],
   "source": [
    "from imars3d.jnbui.tomoreconui import config, Context, wizard"
   ]
  },
  {
   "cell_type": "markdown",
   "metadata": {},
   "source": [
    "# Create context and config objects for accessing the results"
   ]
  },
  {
   "cell_type": "code",
   "execution_count": 2,
   "metadata": {
    "collapsed": true
   },
   "outputs": [],
   "source": [
    "context = Context()\n",
    "context.config = config()"
   ]
  },
  {
   "cell_type": "markdown",
   "metadata": {},
   "source": [
    "# Wizard\n",
    "For the configuration steps, the following inputs work:\n",
    "* IPTS Number: 15518\n",
    "* Scan Name: derek_inj\n",
    "* CT Signature: Derek_injec\n",
    "* DF/OB Files: all files under df/ob directory\n",
    "\n",
    "When you reach the step with the tabs, you __must__ zoom into your desired Region of Interest. The Image Slider's ROI field displays the ROI that will be used for reconstruction."
   ]
  },
  {
   "cell_type": "code",
   "execution_count": 3,
   "metadata": {
    "scrolled": true
   },
   "outputs": [
    {
     "data": {
      "application/vnd.jupyter.widget-view+json": {
       "model_id": "196dccfb23ce40f694be6a8489eb08e1"
      }
     },
     "metadata": {},
     "output_type": "display_data"
    },
    {
     "data": {
      "application/vnd.jupyter.widget-view+json": {
       "model_id": "3e6b84e43a144566963f18aefc1ffc57"
      }
     },
     "metadata": {},
     "output_type": "display_data"
    },
    {
     "data": {
      "application/vnd.jupyter.widget-view+json": {
       "model_id": "925fc1eb3cef48deb75b87c3bc09fbf6"
      }
     },
     "metadata": {},
     "output_type": "display_data"
    },
    {
     "data": {
      "application/vnd.jupyter.widget-view+json": {
       "model_id": "eace47ae968d4c15b1c9e88bfff60ec6"
      }
     },
     "metadata": {},
     "output_type": "display_data"
    },
    {
     "data": {
      "application/vnd.jupyter.widget-view+json": {
       "model_id": "a59b52ecd8c640098719297c37367462"
      }
     },
     "metadata": {},
     "output_type": "display_data"
    },
    {
     "data": {
      "application/vnd.jupyter.widget-view+json": {
       "model_id": "d1b6c7073633424dbad083f958472ae0"
      }
     },
     "metadata": {},
     "output_type": "display_data"
    },
    {
     "data": {
      "application/vnd.jupyter.widget-view+json": {
       "model_id": "4174e5d7955a4a4892ac0695849291a5"
      }
     },
     "metadata": {},
     "output_type": "display_data"
    },
    {
     "data": {
      "application/vnd.jupyter.widget-view+json": {
       "model_id": "79f7dfa1071e45d49cd2b6bdc5731775"
      }
     },
     "metadata": {},
     "output_type": "display_data"
    },
    {
     "data": {
      "application/vnd.jupyter.widget-view+json": {
       "model_id": "cb7cc57d3d914b50a61db3ea1aa048ad"
      }
     },
     "metadata": {},
     "output_type": "display_data"
    },
    {
     "data": {
      "application/vnd.jupyter.widget-view+json": {
       "model_id": "1c251cce438c43c1ac49aae930d0d6fe"
      }
     },
     "metadata": {},
     "output_type": "display_data"
    },
    {
     "data": {
      "application/vnd.jupyter.widget-view+json": {
       "model_id": "eafdf130aeb14a1eb9578fa5f000f41b"
      }
     },
     "metadata": {},
     "output_type": "display_data"
    },
    {
     "data": {
      "application/vnd.jupyter.widget-view+json": {
       "model_id": "f80647ef017b403e9ada3ecfe62e3a71"
      }
     },
     "metadata": {},
     "output_type": "display_data"
    },
    {
     "data": {
      "application/vnd.jupyter.widget-view+json": {
       "model_id": "cc730c1ee89843e4953826b72683d8f7"
      }
     },
     "metadata": {},
     "output_type": "display_data"
    },
    {
     "name": "stderr",
     "output_type": "stream",
     "text": [
      "Checking CT fn pattern  3%|#                                 | [ETA:  0:00:01] "
     ]
    },
    {
     "name": "stdout",
     "output_type": "stream",
     "text": [
      "ob_files            ['/HFIR/CG1D/IPTS-15518/raw/ob/20160224_OB_0040_00...\n",
      "df_dir              /HFIR/CG1D/IPTS-15518/raw/df\n",
      "ct_subdir           Derek_injec\n",
      "ct_scan_subdirs     ['Todd_injec', 't', 'Derek_injec']\n",
      "ct_dir              /HFIR/CG1D/IPTS-15518/raw/ct_scans/Derek_injec\n",
      "df_files            ['/HFIR/CG1D/IPTS-15518/raw/df/20160224_DF_0040_09...\n",
      "facility            HFIR\n",
      "ipts                15518\n",
      "ob_dir              /HFIR/CG1D/IPTS-15518/raw/ob\n",
      "scan                T5\n",
      "iptsdir             /HFIR/CG1D/IPTS-15518\n",
      "instrument          CG1D\n",
      "datadir             /HFIR/CG1D/IPTS-15518/raw/\n",
      "workdir             /SNSlocal2/qil/T5\n",
      "ct_scan_root        /HFIR/CG1D/IPTS-15518/raw/ct_scans\n",
      "ct_sig              Derek_injec\n",
      "outdir              /HFIR/CG1D/IPTS-15518/shared/processed_data/T5\n"
     ]
    },
    {
     "name": "stderr",
     "output_type": "stream",
     "text": [
      "Checking CT fn pattern 97%|################################# | [ETA:  0:00:00] "
     ]
    },
    {
     "name": "stdout",
     "output_type": "stream",
     "text": [
      " * found CT pattern: /HFIR/CG1D/IPTS-15518/raw/ct_scans/Derek_injec/*Derek_injec*_%07.3f_*.*\n",
      "* running mpirun -np 20 python _mpi_tmp/filter_parallel_onenode/tmpsRG5eX/run.py\n",
      "  - args: (<imars3d.ImageFileSeries.ImageFileSeries object at 0x7ff92221ce10>, <imars3d.ImageFileSeries.ImageFileSeries object at 0x7ff92221c8d0>, 'Gamma-filtering', <function filter_one at 0x7ff92222df50>)\n",
      "  - kwds:\n",
      "    - boxsize: 5\n",
      "  - logging in /HFIR/CG1D/IPTS-15518/shared/processed_data/T5/_mpi_tmp/filter_parallel_onenode/tmpsRG5eX/log.run\n",
      "done.\n"
     ]
    },
    {
     "name": "stderr",
     "output_type": "stream",
     "text": [
      "Averaging Dark Field:100%|###################################| [ETA:  0:00:00] "
     ]
    },
    {
     "name": "stdout",
     "output_type": "stream",
     "text": [
      "()\n"
     ]
    },
    {
     "name": "stderr",
     "output_type": "stream",
     "text": [
      "Normalizing Gamma-filtered:N/A%|                            | [ETA:  --:--:--] "
     ]
    },
    {
     "name": "stdout",
     "output_type": "stream",
     "text": [
      "()\n"
     ]
    },
    {
     "name": "stderr",
     "output_type": "stream",
     "text": [
      "Normalizing Gamma-filtered:100%|#############################| [ETA:  0:00:00] "
     ]
    },
    {
     "name": "stdout",
     "output_type": "stream",
     "text": [
      "()\n"
     ]
    },
    {
     "name": "stderr",
     "output_type": "stream",
     "text": [
      "/SNS/users/qil/miniconda2/envs/TR2/lib/python2.7/site-packages/ipywe/imageslider.py:172: RuntimeWarning: invalid value encountered in true_divide\n",
      "  img = ((self.curr_img_data-self._img_min)/(self._img_max-self._img_min)*(2**8-1)).astype('uint8')\n"
     ]
    },
    {
     "data": {
      "application/vnd.jupyter.widget-view+json": {
       "model_id": "20fb782d20ce4dc69b6f9476e5f52a30"
      }
     },
     "metadata": {},
     "output_type": "display_data"
    },
    {
     "name": "stdout",
     "output_type": "stream",
     "text": [
      "* running mpirun -np 20 python _mpi_tmp/filter_parallel_onenode/tmpe9IgxP/run.py\n",
      "  - args: (<imars3d.ImageFileSeries.ImageFileSeries object at 0x7ff92221ce10>, <imars3d.ImageFileSeries.ImageFileSeries object at 0x7ff921b7f790>, 'Gamma-filtering', <function filter_one at 0x7ff92222df50>)\n",
      "  - kwds:\n",
      "    - boxsize: 5\n",
      "  - logging in /HFIR/CG1D/IPTS-15518/shared/processed_data/T5/_mpi_tmp/filter_parallel_onenode/tmpe9IgxP/log.run\n"
     ]
    },
    {
     "name": "stderr",
     "output_type": "stream",
     "text": [
      "\r",
      "                                                                               \r",
      "\r",
      "Normalizing Gamma-filtered:N/A%|                            | [ETA:  --:--:--] "
     ]
    },
    {
     "name": "stdout",
     "output_type": "stream",
     "text": [
      "done.\n",
      "()\n",
      "* running mpirun -np 20 python _mpi_tmp/filter_parallel_onenode/tmpDm0cUJ/run.py\n",
      "  - args: (<imars3d.ImageFileSeries.ImageFileSeries object at 0x7ff921b68a50>, <imars3d.ImageFileSeries.ImageFileSeries object at 0x7ff92234f4d0>, 'Cropping', <function filter_one at 0x7ff91db209b0>)\n",
      "  - kwds:\n",
      "    - box: (546, 1551, 573, 1606)\n",
      "  - logging in /HFIR/CG1D/IPTS-15518/shared/processed_data/T5/_mpi_tmp/filter_parallel_onenode/tmpDm0cUJ/log.run\n",
      "done.\n",
      "* running mpirun -np 20 python _mpi_tmp/filter_parallel_onenode/tmpdIzZly/run.py\n",
      "  - args: (<imars3d.ImageFileSeries.ImageFileSeries object at 0x7ff92234f4d0>, <imars3d.ImageFileSeries.ImageFileSeries object at 0x7ff921bbdf90>, 'Smoothing', <function filter_one at 0x7ff91db20cf8>)\n",
      "  - kwds:\n",
      "    - algorithm: median\n",
      "    - size: 3\n",
      "  - logging in /HFIR/CG1D/IPTS-15518/shared/processed_data/T5/_mpi_tmp/filter_parallel_onenode/tmpdIzZly/log.run\n",
      "done.\n",
      "* running mpirun -np 20 python _mpi_tmp/filter_parallel_onenode/tmpOBuwYD/run.py\n",
      "  - args: (<imars3d.ImageFileSeries.ImageFileSeries object at 0x7ff921bbdf90>, <imars3d.ImageFileSeries.ImageFileSeries object at 0x7ff9222aff10>, 'Intensity Fluctuation Correction', <function filter_one at 0x7ff91db20938>)\n",
      "  - kwds:\n",
      "    - sigma: 3\n",
      "  - logging in /HFIR/CG1D/IPTS-15518/shared/processed_data/T5/_mpi_tmp/filter_parallel_onenode/tmpOBuwYD/log.run\n",
      "done.\n",
      "* running mpirun -np 20 python _mpi_tmp/filter_parallel_onenode/tmpj2mE_o/run.py\n",
      "  - args: (<imars3d.ImageFileSeries.ImageFileSeries object at 0x7ff9222aff10>, <imars3d.ImageFileSeries.ImageFileSeries object at 0x7ff91e2c7110>, 'Applying tilt', <function apply_tilt_oneimg at 0x7ff922281140>)\n",
      "  - kwds:\n",
      "    - tilt: 0.0181818181818\n",
      "    - border: 1\n",
      "  - logging in /HFIR/CG1D/IPTS-15518/shared/processed_data/T5/_mpi_tmp/filter_parallel_onenode/tmpj2mE_o/log.run\n",
      "done.\n",
      "* Running python /SNS/users/qil/miniconda2/envs/TR2/lib/python2.7/site-packages/imars3d-0.1-py2.7.egg/imars3d/components/projection_mp.py _mp_tmp/tmpvnDiSR/args.pkl\n",
      " - Done.\n",
      "* Exploring rotation center using tomopy...\n",
      "* Computing rotation center using 180deg pairs...\n",
      "* Rotation center: 516.0\n",
      "/SNSlocal2/qil/T5\n"
     ]
    }
   ],
   "source": [
    "wizard(context)"
   ]
  },
  {
   "cell_type": "markdown",
   "metadata": {},
   "source": [
    "Run this cell to see the different options for the wizard function."
   ]
  },
  {
   "cell_type": "code",
   "execution_count": null,
   "metadata": {
    "collapsed": true,
    "scrolled": false
   },
   "outputs": [],
   "source": [
    "help(wizard)"
   ]
  },
  {
   "cell_type": "markdown",
   "metadata": {},
   "source": [
    "## Import the necessary modules for examining intermediate output "
   ]
  },
  {
   "cell_type": "code",
   "execution_count": 4,
   "metadata": {
    "collapsed": true
   },
   "outputs": [],
   "source": [
    "from ipywe import imageslider as ImgSld"
   ]
  },
  {
   "cell_type": "markdown",
   "metadata": {},
   "source": [
    "# Examining Intermediate Output\n",
    "You can examine any output of the wizard (such as sinograms) by replacing \"sinograms\" in the final cell with any of the options listed by running the next cell."
   ]
  },
  {
   "cell_type": "code",
   "execution_count": 5,
   "metadata": {},
   "outputs": [
    {
     "data": {
      "text/plain": [
       "['__doc__',\n",
       " '__module__',\n",
       " 'cropped',\n",
       " 'gamma_filtered',\n",
       " 'if_corrected',\n",
       " 'median_filtered',\n",
       " 'normalized',\n",
       " 'reconstructed',\n",
       " 'sinograms',\n",
       " 'tilt_corrected']"
      ]
     },
     "execution_count": 5,
     "metadata": {},
     "output_type": "execute_result"
    }
   ],
   "source": [
    "dir(context.ct.r)"
   ]
  },
  {
   "cell_type": "code",
   "execution_count": 6,
   "metadata": {},
   "outputs": [
    {
     "data": {
      "application/vnd.jupyter.widget-view+json": {
       "model_id": "3008807ce66e44a39637bb5f1c6c5a86"
      }
     },
     "metadata": {},
     "output_type": "display_data"
    }
   ],
   "source": [
    "is1 = ImgSld.ImageSlider(context.ct.r.sinograms, 300, 300)\n",
    "is1"
   ]
  },
  {
   "cell_type": "code",
   "execution_count": null,
   "metadata": {
    "collapsed": true
   },
   "outputs": [],
   "source": []
  }
 ],
 "metadata": {
  "kernelspec": {
   "display_name": "Python 2",
   "language": "python",
   "name": "python2"
  },
  "language_info": {
   "codemirror_mode": {
    "name": "ipython",
    "version": 2
   },
   "file_extension": ".py",
   "mimetype": "text/x-python",
   "name": "python",
   "nbconvert_exporter": "python",
   "pygments_lexer": "ipython2",
   "version": "2.7.13"
  }
 },
 "nbformat": 4,
 "nbformat_minor": 2
}
